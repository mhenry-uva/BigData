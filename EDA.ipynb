{
 "cells": [
  {
   "cell_type": "code",
   "execution_count": 1,
   "metadata": {},
   "outputs": [],
   "source": [
    "from pyspark.sql import SparkSession\n",
    "\n",
    "spark = SparkSession.builder \\\n",
    "        .appName(\"comm\") \\\n",
    "        .getOrCreate()"
   ]
  },
  {
   "cell_type": "code",
   "execution_count": 55,
   "metadata": {},
   "outputs": [],
   "source": [
    "df = spark.read.csv(\"training.1600000.processed.noemoticon.csv\")"
   ]
  },
  {
   "cell_type": "code",
   "execution_count": 56,
   "metadata": {},
   "outputs": [
    {
     "data": {
      "text/plain": [
       "1600000"
      ]
     },
     "execution_count": 56,
     "metadata": {},
     "output_type": "execute_result"
    }
   ],
   "source": [
    "df.count()"
   ]
  },
  {
   "cell_type": "code",
   "execution_count": 57,
   "metadata": {},
   "outputs": [
    {
     "name": "stdout",
     "output_type": "stream",
     "text": [
      "+---+----------+--------------------+--------+---------------+--------------------+\n",
      "|_c0|       _c1|                 _c2|     _c3|            _c4|                 _c5|\n",
      "+---+----------+--------------------+--------+---------------+--------------------+\n",
      "|  0|1467810369|Mon Apr 06 22:19:...|NO_QUERY|_TheSpecialOne_|@switchfoot http:...|\n",
      "|  0|1467810672|Mon Apr 06 22:19:...|NO_QUERY|  scotthamilton|is upset that he ...|\n",
      "|  0|1467810917|Mon Apr 06 22:19:...|NO_QUERY|       mattycus|@Kenichan I dived...|\n",
      "|  0|1467811184|Mon Apr 06 22:19:...|NO_QUERY|        ElleCTF|my whole body fee...|\n",
      "|  0|1467811193|Mon Apr 06 22:19:...|NO_QUERY|         Karoli|@nationwideclass ...|\n",
      "+---+----------+--------------------+--------+---------------+--------------------+\n",
      "only showing top 5 rows\n",
      "\n"
     ]
    }
   ],
   "source": [
    "df.show(5)"
   ]
  },
  {
   "cell_type": "code",
   "execution_count": 58,
   "metadata": {},
   "outputs": [],
   "source": [
    "df = df.withColumnRenamed(\"_c0\", \"label\")\\\n",
    " .withColumnRenamed(\"_c1\", \"id\")\\\n",
    " .withColumnRenamed(\"_c2\", \"time\")\\\n",
    " .withColumnRenamed(\"_c3\", \"Query_Boolean\")\\\n",
    " .withColumnRenamed(\"_c4\", \"Username\")\\\n",
    " .withColumnRenamed(\"_c5\", \"Content\")"
   ]
  },
  {
   "cell_type": "code",
   "execution_count": 59,
   "metadata": {},
   "outputs": [
    {
     "name": "stdout",
     "output_type": "stream",
     "text": [
      "+-----+----------+--------------------+-------------+---------------+--------------------+\n",
      "|label|        id|                time|Query_Boolean|       Username|             Content|\n",
      "+-----+----------+--------------------+-------------+---------------+--------------------+\n",
      "|    0|1467810369|Mon Apr 06 22:19:...|     NO_QUERY|_TheSpecialOne_|@switchfoot http:...|\n",
      "|    0|1467810672|Mon Apr 06 22:19:...|     NO_QUERY|  scotthamilton|is upset that he ...|\n",
      "+-----+----------+--------------------+-------------+---------------+--------------------+\n",
      "only showing top 2 rows\n",
      "\n"
     ]
    }
   ],
   "source": [
    "df.show(2)"
   ]
  },
  {
   "cell_type": "code",
   "execution_count": 60,
   "metadata": {},
   "outputs": [
    {
     "name": "stdout",
     "output_type": "stream",
     "text": [
      "+-----+----------+--------------------+-------------+---------------+--------------------+\n",
      "|label|        id|                time|Query_Boolean|       Username|             Content|\n",
      "+-----+----------+--------------------+-------------+---------------+--------------------+\n",
      "|    0|1467810369|Mon Apr 06 22:19:...|     NO_QUERY|_TheSpecialOne_|@switchfoot http:...|\n",
      "|    0|1467810672|Mon Apr 06 22:19:...|     NO_QUERY|  scotthamilton|is upset that he ...|\n",
      "|    0|1467810917|Mon Apr 06 22:19:...|     NO_QUERY|       mattycus|@Kenichan I dived...|\n",
      "|    0|1467811184|Mon Apr 06 22:19:...|     NO_QUERY|        ElleCTF|my whole body fee...|\n",
      "|    0|1467811193|Mon Apr 06 22:19:...|     NO_QUERY|         Karoli|@nationwideclass ...|\n",
      "|    0|1467811372|Mon Apr 06 22:20:...|     NO_QUERY|       joy_wolf|@Kwesidei not the...|\n",
      "|    0|1467811592|Mon Apr 06 22:20:...|     NO_QUERY|        mybirch|         Need a hug |\n",
      "|    0|1467811594|Mon Apr 06 22:20:...|     NO_QUERY|           coZZ|@LOLTrish hey  lo...|\n",
      "|    0|1467811795|Mon Apr 06 22:20:...|     NO_QUERY|2Hood4Hollywood|@Tatiana_K nope t...|\n",
      "|    0|1467812025|Mon Apr 06 22:20:...|     NO_QUERY|        mimismo|@twittera que me ...|\n",
      "+-----+----------+--------------------+-------------+---------------+--------------------+\n",
      "only showing top 10 rows\n",
      "\n"
     ]
    }
   ],
   "source": [
    "df.filter(df.label == 0).show(10)"
   ]
  },
  {
   "cell_type": "code",
   "execution_count": 61,
   "metadata": {},
   "outputs": [
    {
     "name": "stdout",
     "output_type": "stream",
     "text": [
      "+--------------+--------------------------------------------------------------------------------------------------------------+\n",
      "|Username      |Content                                                                                                       |\n",
      "+--------------+--------------------------------------------------------------------------------------------------------------+\n",
      "|gagoo         |im sad now  Miss.Lilly                                                                                        |\n",
      "|kennypham     |Sad, sad, sad. I don't know why but I hate this feeling  I wanna sleep and I still can't!                     |\n",
      "|DdubsShellBell|@JonathanRKnight Awww I soo wish I was there to see you finally comfortable! Im sad that I missed it          |\n",
      "|hpfangirl94   |Falling asleep. Just heard about that Tracy girl's body being found. How sad  My heart breaks for that family.|\n",
      "|peacoats      |is strangely sad about LiLo and SamRo breaking up.                                                            |\n",
      "+--------------+--------------------------------------------------------------------------------------------------------------+\n",
      "only showing top 5 rows\n",
      "\n"
     ]
    }
   ],
   "source": [
    "df.createOrReplaceTempView(\"twitter\")\n",
    "result = spark.sql(\"\"\"SELECT Username\n",
    "                        ,Content\n",
    "                   FROM twitter \n",
    "                   WHERE label = 0 \n",
    "                   AND Content LIKE '%sad%'\"\"\")\n",
    "result.show(5, False)"
   ]
  },
  {
   "cell_type": "code",
   "execution_count": 62,
   "metadata": {},
   "outputs": [
    {
     "name": "stdout",
     "output_type": "stream",
     "text": [
      "+-----+---------+\n",
      "|label|count(id)|\n",
      "+-----+---------+\n",
      "|    0|   800000|\n",
      "|    4|   800000|\n",
      "+-----+---------+\n",
      "\n"
     ]
    }
   ],
   "source": [
    "from pyspark.sql import functions as F\n",
    "\n",
    "agg_df = df.groupBy(\"label\").agg(F.count(\"id\"))\n",
    "agg_df.show()"
   ]
  },
  {
   "cell_type": "code",
   "execution_count": 64,
   "metadata": {},
   "outputs": [
    {
     "name": "stdout",
     "output_type": "stream",
     "text": [
      "+-------------+---------+\n",
      "|Query_Boolean|count(id)|\n",
      "+-------------+---------+\n",
      "|     NO_QUERY|  1600000|\n",
      "+-------------+---------+\n",
      "\n"
     ]
    }
   ],
   "source": [
    "agg_df2 = df.groupBy(\"Query_Boolean\").agg(F.count(\"id\"))\n",
    "agg_df2.show()"
   ]
  },
  {
   "cell_type": "code",
   "execution_count": null,
   "metadata": {},
   "outputs": [],
   "source": []
  }
 ],
 "metadata": {
  "kernelspec": {
   "display_name": "DS 5110 Spark 3.1",
   "language": "python",
   "name": "ds5110_spark3.1"
  },
  "language_info": {
   "codemirror_mode": {
    "name": "ipython",
    "version": 3
   },
   "file_extension": ".py",
   "mimetype": "text/x-python",
   "name": "python",
   "nbconvert_exporter": "python",
   "pygments_lexer": "ipython3",
   "version": "3.7.10"
  }
 },
 "nbformat": 4,
 "nbformat_minor": 4
}
